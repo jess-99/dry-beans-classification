{
 "cells": [
  {
   "cell_type": "code",
   "execution_count": 1,
   "metadata": {},
   "outputs": [],
   "source": [
    "import numpy as np\n",
    "import matplotlib.pyplot as plt\n",
    "import pandas as pd\n",
    "import sklearn\n",
    "import seaborn as sns\n",
    "import pickle"
   ]
  },
  {
   "cell_type": "code",
   "execution_count": 2,
   "metadata": {},
   "outputs": [],
   "source": [
    "df=pd.read_csv('train_dataset.csv')\n",
    "answ=pd.read_csv('answers.csv')"
   ]
  },
  {
   "cell_type": "code",
   "execution_count": 3,
   "metadata": {},
   "outputs": [
    {
     "data": {
      "text/html": [
       "<div>\n",
       "<style scoped>\n",
       "    .dataframe tbody tr th:only-of-type {\n",
       "        vertical-align: middle;\n",
       "    }\n",
       "\n",
       "    .dataframe tbody tr th {\n",
       "        vertical-align: top;\n",
       "    }\n",
       "\n",
       "    .dataframe thead th {\n",
       "        text-align: right;\n",
       "    }\n",
       "</style>\n",
       "<table border=\"1\" class=\"dataframe\">\n",
       "  <thead>\n",
       "    <tr style=\"text-align: right;\">\n",
       "      <th></th>\n",
       "      <th>Unnamed: 0</th>\n",
       "      <th>Area</th>\n",
       "      <th>Perimeter</th>\n",
       "      <th>MajorAxisLength</th>\n",
       "      <th>MinorAxisLength</th>\n",
       "      <th>AspectRation</th>\n",
       "      <th>Eccentricity</th>\n",
       "      <th>ConvexArea</th>\n",
       "      <th>EquivDiameter</th>\n",
       "      <th>Extent</th>\n",
       "      <th>Solidity</th>\n",
       "      <th>roundness</th>\n",
       "      <th>Compactness</th>\n",
       "      <th>ShapeFactor1</th>\n",
       "      <th>ShapeFactor2</th>\n",
       "      <th>ShapeFactor3</th>\n",
       "      <th>ShapeFactor4</th>\n",
       "      <th>y_label</th>\n",
       "    </tr>\n",
       "  </thead>\n",
       "  <tbody>\n",
       "    <tr>\n",
       "      <th>0</th>\n",
       "      <td>11073</td>\n",
       "      <td>29076</td>\n",
       "      <td>636.353</td>\n",
       "      <td>235.061516</td>\n",
       "      <td>158.033619</td>\n",
       "      <td>1.487415</td>\n",
       "      <td>0.740272</td>\n",
       "      <td>29490</td>\n",
       "      <td>192.407674</td>\n",
       "      <td>0.693524</td>\n",
       "      <td>0.985961</td>\n",
       "      <td>0.902295</td>\n",
       "      <td>0.818542</td>\n",
       "      <td>0.008084</td>\n",
       "      <td>0.002239</td>\n",
       "      <td>0.670011</td>\n",
       "      <td>0.996584</td>\n",
       "      <td>DERMASON</td>\n",
       "    </tr>\n",
       "    <tr>\n",
       "      <th>1</th>\n",
       "      <td>13172</td>\n",
       "      <td>38091</td>\n",
       "      <td>755.186</td>\n",
       "      <td>271.077683</td>\n",
       "      <td>179.756984</td>\n",
       "      <td>1.508023</td>\n",
       "      <td>0.748513</td>\n",
       "      <td>38716</td>\n",
       "      <td>220.224811</td>\n",
       "      <td>0.706318</td>\n",
       "      <td>0.983857</td>\n",
       "      <td>0.839314</td>\n",
       "      <td>0.812405</td>\n",
       "      <td>0.007117</td>\n",
       "      <td>0.001912</td>\n",
       "      <td>0.660002</td>\n",
       "      <td>0.995298</td>\n",
       "      <td>DERMASON</td>\n",
       "    </tr>\n",
       "    <tr>\n",
       "      <th>2</th>\n",
       "      <td>11587</td>\n",
       "      <td>30969</td>\n",
       "      <td>651.527</td>\n",
       "      <td>230.164083</td>\n",
       "      <td>171.903953</td>\n",
       "      <td>1.338911</td>\n",
       "      <td>0.664964</td>\n",
       "      <td>31318</td>\n",
       "      <td>198.572293</td>\n",
       "      <td>0.733689</td>\n",
       "      <td>0.988856</td>\n",
       "      <td>0.916795</td>\n",
       "      <td>0.862742</td>\n",
       "      <td>0.007432</td>\n",
       "      <td>0.002540</td>\n",
       "      <td>0.744324</td>\n",
       "      <td>0.996584</td>\n",
       "      <td>DERMASON</td>\n",
       "    </tr>\n",
       "    <tr>\n",
       "      <th>3</th>\n",
       "      <td>12492</td>\n",
       "      <td>34589</td>\n",
       "      <td>685.425</td>\n",
       "      <td>253.001232</td>\n",
       "      <td>174.609358</td>\n",
       "      <td>1.448956</td>\n",
       "      <td>0.723664</td>\n",
       "      <td>34965</td>\n",
       "      <td>209.857291</td>\n",
       "      <td>0.784331</td>\n",
       "      <td>0.989246</td>\n",
       "      <td>0.925184</td>\n",
       "      <td>0.829471</td>\n",
       "      <td>0.007314</td>\n",
       "      <td>0.002136</td>\n",
       "      <td>0.688023</td>\n",
       "      <td>0.996915</td>\n",
       "      <td>DERMASON</td>\n",
       "    </tr>\n",
       "    <tr>\n",
       "      <th>4</th>\n",
       "      <td>430</td>\n",
       "      <td>35954</td>\n",
       "      <td>710.093</td>\n",
       "      <td>251.660769</td>\n",
       "      <td>182.014822</td>\n",
       "      <td>1.382639</td>\n",
       "      <td>0.690581</td>\n",
       "      <td>36380</td>\n",
       "      <td>213.958067</td>\n",
       "      <td>0.794564</td>\n",
       "      <td>0.988290</td>\n",
       "      <td>0.896038</td>\n",
       "      <td>0.850184</td>\n",
       "      <td>0.007000</td>\n",
       "      <td>0.002256</td>\n",
       "      <td>0.722814</td>\n",
       "      <td>0.999390</td>\n",
       "      <td>SEKER</td>\n",
       "    </tr>\n",
       "    <tr>\n",
       "      <th>5</th>\n",
       "      <td>13042</td>\n",
       "      <td>37342</td>\n",
       "      <td>716.591</td>\n",
       "      <td>265.585855</td>\n",
       "      <td>179.652361</td>\n",
       "      <td>1.478332</td>\n",
       "      <td>0.736500</td>\n",
       "      <td>37779</td>\n",
       "      <td>218.048873</td>\n",
       "      <td>0.705631</td>\n",
       "      <td>0.988433</td>\n",
       "      <td>0.913829</td>\n",
       "      <td>0.821011</td>\n",
       "      <td>0.007112</td>\n",
       "      <td>0.001993</td>\n",
       "      <td>0.674059</td>\n",
       "      <td>0.996483</td>\n",
       "      <td>DERMASON</td>\n",
       "    </tr>\n",
       "    <tr>\n",
       "      <th>6</th>\n",
       "      <td>2328</td>\n",
       "      <td>62298</td>\n",
       "      <td>992.583</td>\n",
       "      <td>327.685094</td>\n",
       "      <td>242.658033</td>\n",
       "      <td>1.350399</td>\n",
       "      <td>0.672032</td>\n",
       "      <td>63353</td>\n",
       "      <td>281.638558</td>\n",
       "      <td>0.801157</td>\n",
       "      <td>0.983347</td>\n",
       "      <td>0.794603</td>\n",
       "      <td>0.859479</td>\n",
       "      <td>0.005260</td>\n",
       "      <td>0.001771</td>\n",
       "      <td>0.738705</td>\n",
       "      <td>0.997546</td>\n",
       "      <td>BARBUNYA</td>\n",
       "    </tr>\n",
       "    <tr>\n",
       "      <th>7</th>\n",
       "      <td>13139</td>\n",
       "      <td>37904</td>\n",
       "      <td>723.594</td>\n",
       "      <td>261.498050</td>\n",
       "      <td>185.338663</td>\n",
       "      <td>1.410920</td>\n",
       "      <td>0.705452</td>\n",
       "      <td>38347</td>\n",
       "      <td>219.683572</td>\n",
       "      <td>0.709016</td>\n",
       "      <td>0.988448</td>\n",
       "      <td>0.909714</td>\n",
       "      <td>0.840096</td>\n",
       "      <td>0.006899</td>\n",
       "      <td>0.002120</td>\n",
       "      <td>0.705762</td>\n",
       "      <td>0.995774</td>\n",
       "      <td>DERMASON</td>\n",
       "    </tr>\n",
       "    <tr>\n",
       "      <th>8</th>\n",
       "      <td>8626</td>\n",
       "      <td>44028</td>\n",
       "      <td>781.776</td>\n",
       "      <td>289.058119</td>\n",
       "      <td>194.509971</td>\n",
       "      <td>1.486084</td>\n",
       "      <td>0.739725</td>\n",
       "      <td>44525</td>\n",
       "      <td>236.766110</td>\n",
       "      <td>0.713605</td>\n",
       "      <td>0.988838</td>\n",
       "      <td>0.905262</td>\n",
       "      <td>0.819095</td>\n",
       "      <td>0.006565</td>\n",
       "      <td>0.001823</td>\n",
       "      <td>0.670917</td>\n",
       "      <td>0.997039</td>\n",
       "      <td>SIRA</td>\n",
       "    </tr>\n",
       "    <tr>\n",
       "      <th>9</th>\n",
       "      <td>577</td>\n",
       "      <td>36851</td>\n",
       "      <td>699.211</td>\n",
       "      <td>240.537152</td>\n",
       "      <td>195.536548</td>\n",
       "      <td>1.230139</td>\n",
       "      <td>0.582381</td>\n",
       "      <td>37198</td>\n",
       "      <td>216.610596</td>\n",
       "      <td>0.768931</td>\n",
       "      <td>0.990672</td>\n",
       "      <td>0.947202</td>\n",
       "      <td>0.900529</td>\n",
       "      <td>0.006527</td>\n",
       "      <td>0.002648</td>\n",
       "      <td>0.810952</td>\n",
       "      <td>0.997584</td>\n",
       "      <td>SEKER</td>\n",
       "    </tr>\n",
       "  </tbody>\n",
       "</table>\n",
       "</div>"
      ],
      "text/plain": [
       "   Unnamed: 0   Area  Perimeter  MajorAxisLength  MinorAxisLength  \\\n",
       "0       11073  29076    636.353       235.061516       158.033619   \n",
       "1       13172  38091    755.186       271.077683       179.756984   \n",
       "2       11587  30969    651.527       230.164083       171.903953   \n",
       "3       12492  34589    685.425       253.001232       174.609358   \n",
       "4         430  35954    710.093       251.660769       182.014822   \n",
       "5       13042  37342    716.591       265.585855       179.652361   \n",
       "6        2328  62298    992.583       327.685094       242.658033   \n",
       "7       13139  37904    723.594       261.498050       185.338663   \n",
       "8        8626  44028    781.776       289.058119       194.509971   \n",
       "9         577  36851    699.211       240.537152       195.536548   \n",
       "\n",
       "   AspectRation  Eccentricity  ConvexArea  EquivDiameter    Extent  Solidity  \\\n",
       "0      1.487415      0.740272       29490     192.407674  0.693524  0.985961   \n",
       "1      1.508023      0.748513       38716     220.224811  0.706318  0.983857   \n",
       "2      1.338911      0.664964       31318     198.572293  0.733689  0.988856   \n",
       "3      1.448956      0.723664       34965     209.857291  0.784331  0.989246   \n",
       "4      1.382639      0.690581       36380     213.958067  0.794564  0.988290   \n",
       "5      1.478332      0.736500       37779     218.048873  0.705631  0.988433   \n",
       "6      1.350399      0.672032       63353     281.638558  0.801157  0.983347   \n",
       "7      1.410920      0.705452       38347     219.683572  0.709016  0.988448   \n",
       "8      1.486084      0.739725       44525     236.766110  0.713605  0.988838   \n",
       "9      1.230139      0.582381       37198     216.610596  0.768931  0.990672   \n",
       "\n",
       "   roundness  Compactness  ShapeFactor1  ShapeFactor2  ShapeFactor3  \\\n",
       "0   0.902295     0.818542      0.008084      0.002239      0.670011   \n",
       "1   0.839314     0.812405      0.007117      0.001912      0.660002   \n",
       "2   0.916795     0.862742      0.007432      0.002540      0.744324   \n",
       "3   0.925184     0.829471      0.007314      0.002136      0.688023   \n",
       "4   0.896038     0.850184      0.007000      0.002256      0.722814   \n",
       "5   0.913829     0.821011      0.007112      0.001993      0.674059   \n",
       "6   0.794603     0.859479      0.005260      0.001771      0.738705   \n",
       "7   0.909714     0.840096      0.006899      0.002120      0.705762   \n",
       "8   0.905262     0.819095      0.006565      0.001823      0.670917   \n",
       "9   0.947202     0.900529      0.006527      0.002648      0.810952   \n",
       "\n",
       "   ShapeFactor4   y_label  \n",
       "0      0.996584  DERMASON  \n",
       "1      0.995298  DERMASON  \n",
       "2      0.996584  DERMASON  \n",
       "3      0.996915  DERMASON  \n",
       "4      0.999390     SEKER  \n",
       "5      0.996483  DERMASON  \n",
       "6      0.997546  BARBUNYA  \n",
       "7      0.995774  DERMASON  \n",
       "8      0.997039      SIRA  \n",
       "9      0.997584     SEKER  "
      ]
     },
     "execution_count": 3,
     "metadata": {},
     "output_type": "execute_result"
    }
   ],
   "source": [
    "df.head(10)"
   ]
  },
  {
   "cell_type": "code",
   "execution_count": 4,
   "metadata": {},
   "outputs": [
    {
     "name": "stdout",
     "output_type": "stream",
     "text": [
      "<class 'pandas.core.frame.DataFrame'>\n",
      "RangeIndex: 10888 entries, 0 to 10887\n",
      "Data columns (total 18 columns):\n",
      " #   Column           Non-Null Count  Dtype  \n",
      "---  ------           --------------  -----  \n",
      " 0   Unnamed: 0       10888 non-null  int64  \n",
      " 1   Area             10888 non-null  int64  \n",
      " 2   Perimeter        10888 non-null  float64\n",
      " 3   MajorAxisLength  10888 non-null  float64\n",
      " 4   MinorAxisLength  10888 non-null  float64\n",
      " 5   AspectRation     10888 non-null  float64\n",
      " 6   Eccentricity     10888 non-null  float64\n",
      " 7   ConvexArea       10888 non-null  int64  \n",
      " 8   EquivDiameter    10888 non-null  float64\n",
      " 9   Extent           10888 non-null  float64\n",
      " 10  Solidity         10888 non-null  float64\n",
      " 11  roundness        10888 non-null  float64\n",
      " 12  Compactness      10888 non-null  float64\n",
      " 13  ShapeFactor1     10888 non-null  float64\n",
      " 14  ShapeFactor2     10888 non-null  float64\n",
      " 15  ShapeFactor3     10888 non-null  float64\n",
      " 16  ShapeFactor4     10888 non-null  float64\n",
      " 17  y_label          10888 non-null  object \n",
      "dtypes: float64(14), int64(3), object(1)\n",
      "memory usage: 1.5+ MB\n"
     ]
    }
   ],
   "source": [
    "df.info()"
   ]
  },
  {
   "cell_type": "code",
   "execution_count": 5,
   "metadata": {},
   "outputs": [
    {
     "data": {
      "text/plain": [
       "(10888, 18)"
      ]
     },
     "execution_count": 5,
     "metadata": {},
     "output_type": "execute_result"
    }
   ],
   "source": [
    "df.shape"
   ]
  },
  {
   "cell_type": "code",
   "execution_count": 6,
   "metadata": {},
   "outputs": [
    {
     "data": {
      "text/plain": [
       "0"
      ]
     },
     "execution_count": 6,
     "metadata": {},
     "output_type": "execute_result"
    }
   ],
   "source": [
    "df.duplicated().sum()"
   ]
  },
  {
   "cell_type": "code",
   "execution_count": 7,
   "metadata": {},
   "outputs": [
    {
     "data": {
      "text/plain": [
       "Unnamed: 0         0\n",
       "Area               0\n",
       "Perimeter          0\n",
       "MajorAxisLength    0\n",
       "MinorAxisLength    0\n",
       "AspectRation       0\n",
       "Eccentricity       0\n",
       "ConvexArea         0\n",
       "EquivDiameter      0\n",
       "Extent             0\n",
       "Solidity           0\n",
       "roundness          0\n",
       "Compactness        0\n",
       "ShapeFactor1       0\n",
       "ShapeFactor2       0\n",
       "ShapeFactor3       0\n",
       "ShapeFactor4       0\n",
       "y_label            0\n",
       "dtype: int64"
      ]
     },
     "execution_count": 7,
     "metadata": {},
     "output_type": "execute_result"
    }
   ],
   "source": [
    "df.isna().sum()"
   ]
  },
  {
   "cell_type": "code",
   "execution_count": 8,
   "metadata": {},
   "outputs": [],
   "source": [
    "from sklearn import preprocessing\n",
    "label_encoder = preprocessing.LabelEncoder()\n",
    "df['y_label']= label_encoder.fit_transform(df['y_label'])"
   ]
  },
  {
   "cell_type": "code",
   "execution_count": 9,
   "metadata": {},
   "outputs": [
    {
     "data": {
      "text/html": [
       "<div>\n",
       "<style scoped>\n",
       "    .dataframe tbody tr th:only-of-type {\n",
       "        vertical-align: middle;\n",
       "    }\n",
       "\n",
       "    .dataframe tbody tr th {\n",
       "        vertical-align: top;\n",
       "    }\n",
       "\n",
       "    .dataframe thead th {\n",
       "        text-align: right;\n",
       "    }\n",
       "</style>\n",
       "<table border=\"1\" class=\"dataframe\">\n",
       "  <thead>\n",
       "    <tr style=\"text-align: right;\">\n",
       "      <th></th>\n",
       "      <th>Unnamed: 0</th>\n",
       "      <th>Area</th>\n",
       "      <th>Perimeter</th>\n",
       "      <th>MajorAxisLength</th>\n",
       "      <th>MinorAxisLength</th>\n",
       "      <th>AspectRation</th>\n",
       "      <th>Eccentricity</th>\n",
       "      <th>ConvexArea</th>\n",
       "      <th>EquivDiameter</th>\n",
       "      <th>Extent</th>\n",
       "      <th>Solidity</th>\n",
       "      <th>roundness</th>\n",
       "      <th>Compactness</th>\n",
       "      <th>ShapeFactor1</th>\n",
       "      <th>ShapeFactor2</th>\n",
       "      <th>ShapeFactor3</th>\n",
       "      <th>ShapeFactor4</th>\n",
       "      <th>y_label</th>\n",
       "    </tr>\n",
       "  </thead>\n",
       "  <tbody>\n",
       "    <tr>\n",
       "      <th>0</th>\n",
       "      <td>11073</td>\n",
       "      <td>29076</td>\n",
       "      <td>636.353</td>\n",
       "      <td>235.061516</td>\n",
       "      <td>158.033619</td>\n",
       "      <td>1.487415</td>\n",
       "      <td>0.740272</td>\n",
       "      <td>29490</td>\n",
       "      <td>192.407674</td>\n",
       "      <td>0.693524</td>\n",
       "      <td>0.985961</td>\n",
       "      <td>0.902295</td>\n",
       "      <td>0.818542</td>\n",
       "      <td>0.008084</td>\n",
       "      <td>0.002239</td>\n",
       "      <td>0.670011</td>\n",
       "      <td>0.996584</td>\n",
       "      <td>3</td>\n",
       "    </tr>\n",
       "    <tr>\n",
       "      <th>1</th>\n",
       "      <td>13172</td>\n",
       "      <td>38091</td>\n",
       "      <td>755.186</td>\n",
       "      <td>271.077683</td>\n",
       "      <td>179.756984</td>\n",
       "      <td>1.508023</td>\n",
       "      <td>0.748513</td>\n",
       "      <td>38716</td>\n",
       "      <td>220.224811</td>\n",
       "      <td>0.706318</td>\n",
       "      <td>0.983857</td>\n",
       "      <td>0.839314</td>\n",
       "      <td>0.812405</td>\n",
       "      <td>0.007117</td>\n",
       "      <td>0.001912</td>\n",
       "      <td>0.660002</td>\n",
       "      <td>0.995298</td>\n",
       "      <td>3</td>\n",
       "    </tr>\n",
       "    <tr>\n",
       "      <th>2</th>\n",
       "      <td>11587</td>\n",
       "      <td>30969</td>\n",
       "      <td>651.527</td>\n",
       "      <td>230.164083</td>\n",
       "      <td>171.903953</td>\n",
       "      <td>1.338911</td>\n",
       "      <td>0.664964</td>\n",
       "      <td>31318</td>\n",
       "      <td>198.572293</td>\n",
       "      <td>0.733689</td>\n",
       "      <td>0.988856</td>\n",
       "      <td>0.916795</td>\n",
       "      <td>0.862742</td>\n",
       "      <td>0.007432</td>\n",
       "      <td>0.002540</td>\n",
       "      <td>0.744324</td>\n",
       "      <td>0.996584</td>\n",
       "      <td>3</td>\n",
       "    </tr>\n",
       "    <tr>\n",
       "      <th>3</th>\n",
       "      <td>12492</td>\n",
       "      <td>34589</td>\n",
       "      <td>685.425</td>\n",
       "      <td>253.001232</td>\n",
       "      <td>174.609358</td>\n",
       "      <td>1.448956</td>\n",
       "      <td>0.723664</td>\n",
       "      <td>34965</td>\n",
       "      <td>209.857291</td>\n",
       "      <td>0.784331</td>\n",
       "      <td>0.989246</td>\n",
       "      <td>0.925184</td>\n",
       "      <td>0.829471</td>\n",
       "      <td>0.007314</td>\n",
       "      <td>0.002136</td>\n",
       "      <td>0.688023</td>\n",
       "      <td>0.996915</td>\n",
       "      <td>3</td>\n",
       "    </tr>\n",
       "    <tr>\n",
       "      <th>4</th>\n",
       "      <td>430</td>\n",
       "      <td>35954</td>\n",
       "      <td>710.093</td>\n",
       "      <td>251.660769</td>\n",
       "      <td>182.014822</td>\n",
       "      <td>1.382639</td>\n",
       "      <td>0.690581</td>\n",
       "      <td>36380</td>\n",
       "      <td>213.958067</td>\n",
       "      <td>0.794564</td>\n",
       "      <td>0.988290</td>\n",
       "      <td>0.896038</td>\n",
       "      <td>0.850184</td>\n",
       "      <td>0.007000</td>\n",
       "      <td>0.002256</td>\n",
       "      <td>0.722814</td>\n",
       "      <td>0.999390</td>\n",
       "      <td>5</td>\n",
       "    </tr>\n",
       "  </tbody>\n",
       "</table>\n",
       "</div>"
      ],
      "text/plain": [
       "   Unnamed: 0   Area  Perimeter  MajorAxisLength  MinorAxisLength  \\\n",
       "0       11073  29076    636.353       235.061516       158.033619   \n",
       "1       13172  38091    755.186       271.077683       179.756984   \n",
       "2       11587  30969    651.527       230.164083       171.903953   \n",
       "3       12492  34589    685.425       253.001232       174.609358   \n",
       "4         430  35954    710.093       251.660769       182.014822   \n",
       "\n",
       "   AspectRation  Eccentricity  ConvexArea  EquivDiameter    Extent  Solidity  \\\n",
       "0      1.487415      0.740272       29490     192.407674  0.693524  0.985961   \n",
       "1      1.508023      0.748513       38716     220.224811  0.706318  0.983857   \n",
       "2      1.338911      0.664964       31318     198.572293  0.733689  0.988856   \n",
       "3      1.448956      0.723664       34965     209.857291  0.784331  0.989246   \n",
       "4      1.382639      0.690581       36380     213.958067  0.794564  0.988290   \n",
       "\n",
       "   roundness  Compactness  ShapeFactor1  ShapeFactor2  ShapeFactor3  \\\n",
       "0   0.902295     0.818542      0.008084      0.002239      0.670011   \n",
       "1   0.839314     0.812405      0.007117      0.001912      0.660002   \n",
       "2   0.916795     0.862742      0.007432      0.002540      0.744324   \n",
       "3   0.925184     0.829471      0.007314      0.002136      0.688023   \n",
       "4   0.896038     0.850184      0.007000      0.002256      0.722814   \n",
       "\n",
       "   ShapeFactor4  y_label  \n",
       "0      0.996584        3  \n",
       "1      0.995298        3  \n",
       "2      0.996584        3  \n",
       "3      0.996915        3  \n",
       "4      0.999390        5  "
      ]
     },
     "execution_count": 9,
     "metadata": {},
     "output_type": "execute_result"
    }
   ],
   "source": [
    "df.head()"
   ]
  },
  {
   "cell_type": "code",
   "execution_count": 10,
   "metadata": {},
   "outputs": [
    {
     "name": "stdout",
     "output_type": "stream",
     "text": [
      "<class 'pandas.core.frame.DataFrame'>\n",
      "RangeIndex: 10888 entries, 0 to 10887\n",
      "Data columns (total 18 columns):\n",
      " #   Column           Non-Null Count  Dtype  \n",
      "---  ------           --------------  -----  \n",
      " 0   Unnamed: 0       10888 non-null  int64  \n",
      " 1   Area             10888 non-null  int64  \n",
      " 2   Perimeter        10888 non-null  float64\n",
      " 3   MajorAxisLength  10888 non-null  float64\n",
      " 4   MinorAxisLength  10888 non-null  float64\n",
      " 5   AspectRation     10888 non-null  float64\n",
      " 6   Eccentricity     10888 non-null  float64\n",
      " 7   ConvexArea       10888 non-null  int64  \n",
      " 8   EquivDiameter    10888 non-null  float64\n",
      " 9   Extent           10888 non-null  float64\n",
      " 10  Solidity         10888 non-null  float64\n",
      " 11  roundness        10888 non-null  float64\n",
      " 12  Compactness      10888 non-null  float64\n",
      " 13  ShapeFactor1     10888 non-null  float64\n",
      " 14  ShapeFactor2     10888 non-null  float64\n",
      " 15  ShapeFactor3     10888 non-null  float64\n",
      " 16  ShapeFactor4     10888 non-null  float64\n",
      " 17  y_label          10888 non-null  int32  \n",
      "dtypes: float64(14), int32(1), int64(3)\n",
      "memory usage: 1.5 MB\n"
     ]
    }
   ],
   "source": [
    "df.info()"
   ]
  },
  {
   "cell_type": "code",
   "execution_count": 11,
   "metadata": {},
   "outputs": [
    {
     "data": {
      "text/plain": [
       "3    2875\n",
       "6    2100\n",
       "5    1614\n",
       "4    1520\n",
       "2    1313\n",
       "0    1061\n",
       "1     405\n",
       "Name: y_label, dtype: int64"
      ]
     },
     "execution_count": 11,
     "metadata": {},
     "output_type": "execute_result"
    }
   ],
   "source": [
    "df.y_label.value_counts()"
   ]
  },
  {
   "cell_type": "code",
   "execution_count": 12,
   "metadata": {},
   "outputs": [],
   "source": [
    "df.drop('Unnamed: 0',axis='columns',inplace=True)\n",
    "df.drop('ShapeFactor1',axis='columns',inplace=True)\n",
    "df.drop('ShapeFactor2',axis='columns',inplace=True)\n",
    "df.drop('ShapeFactor3',axis='columns',inplace=True)\n",
    "df.drop('ShapeFactor4',axis='columns',inplace=True)"
   ]
  },
  {
   "cell_type": "code",
   "execution_count": 13,
   "metadata": {},
   "outputs": [],
   "source": [
    "answ.drop('Unnamed: 0',axis='columns',inplace=True)"
   ]
  },
  {
   "cell_type": "code",
   "execution_count": 14,
   "metadata": {},
   "outputs": [
    {
     "name": "stdout",
     "output_type": "stream",
     "text": [
      "<class 'pandas.core.frame.DataFrame'>\n",
      "RangeIndex: 10888 entries, 0 to 10887\n",
      "Data columns (total 13 columns):\n",
      " #   Column           Non-Null Count  Dtype  \n",
      "---  ------           --------------  -----  \n",
      " 0   Area             10888 non-null  int64  \n",
      " 1   Perimeter        10888 non-null  float64\n",
      " 2   MajorAxisLength  10888 non-null  float64\n",
      " 3   MinorAxisLength  10888 non-null  float64\n",
      " 4   AspectRation     10888 non-null  float64\n",
      " 5   Eccentricity     10888 non-null  float64\n",
      " 6   ConvexArea       10888 non-null  int64  \n",
      " 7   EquivDiameter    10888 non-null  float64\n",
      " 8   Extent           10888 non-null  float64\n",
      " 9   Solidity         10888 non-null  float64\n",
      " 10  roundness        10888 non-null  float64\n",
      " 11  Compactness      10888 non-null  float64\n",
      " 12  y_label          10888 non-null  int32  \n",
      "dtypes: float64(10), int32(1), int64(2)\n",
      "memory usage: 1.0 MB\n"
     ]
    }
   ],
   "source": [
    "df.info()"
   ]
  },
  {
   "cell_type": "code",
   "execution_count": 15,
   "metadata": {},
   "outputs": [
    {
     "data": {
      "text/plain": [
       "<matplotlib.axes._subplots.AxesSubplot at 0x1e7aa66b790>"
      ]
     },
     "execution_count": 15,
     "metadata": {},
     "output_type": "execute_result"
    },
    {
     "data": {
      "image/png": "[encoded data removed]",
      "text/plain": [
       "<Figure size 432x288 with 2 Axes>"
      ]
     },
     "metadata": {
      "needs_background": "light"
     },
     "output_type": "display_data"
    }
   ],
   "source": [
    "sns.heatmap(df.corr(),annot=True)"
   ]
  },
  {
   "cell_type": "code",
   "execution_count": 16,
   "metadata": {},
   "outputs": [],
   "source": [
    "x = df.iloc[:, 0:12].values\n",
    "y = df.iloc[:, 12].values"
   ]
  },
  {
   "cell_type": "code",
   "execution_count": 17,
   "metadata": {},
   "outputs": [
    {
     "data": {
      "text/plain": [
       "array([[2.90760000e+04, 6.36353000e+02, 2.35061516e+02, ...,\n",
       "        9.85961343e-01, 9.02294546e-01, 8.18541788e-01],\n",
       "       [3.80910000e+04, 7.55186000e+02, 2.71077683e+02, ...,\n",
       "        9.83856803e-01, 8.39313827e-01, 8.12404802e-01],\n",
       "       [3.09690000e+04, 6.51527000e+02, 2.30164083e+02, ...,\n",
       "        9.88856249e-01, 9.16794945e-01, 8.62742310e-01],\n",
       "       ...,\n",
       "       [9.00040000e+04, 1.15659900e+03, 4.56836383e+02, ...,\n",
       "        9.91342659e-01, 8.45485278e-01, 7.41012068e-01],\n",
       "       [3.84260000e+04, 7.11412000e+02, 2.46696608e+02, ...,\n",
       "        9.90386350e-01, 9.54097306e-01, 8.96611840e-01],\n",
       "       [6.36280000e+04, 9.97390000e+02, 4.00784151e+02, ...,\n",
       "        9.89749094e-01, 8.03763198e-01, 7.10180357e-01]])"
      ]
     },
     "execution_count": 17,
     "metadata": {},
     "output_type": "execute_result"
    }
   ],
   "source": [
    "x"
   ]
  },
  {
   "cell_type": "code",
   "execution_count": 18,
   "metadata": {},
   "outputs": [
    {
     "data": {
      "text/plain": [
       "array([3, 3, 3, ..., 2, 5, 4])"
      ]
     },
     "execution_count": 18,
     "metadata": {},
     "output_type": "execute_result"
    }
   ],
   "source": [
    "y"
   ]
  },
  {
   "cell_type": "code",
   "execution_count": 19,
   "metadata": {},
   "outputs": [],
   "source": [
    "from sklearn.model_selection import train_test_split\n",
    "x_train, x_test, y_train, y_test = train_test_split(x,y, test_size = 0.25)"
   ]
  },
  {
   "cell_type": "code",
   "execution_count": 20,
   "metadata": {},
   "outputs": [],
   "source": [
    "from sklearn.preprocessing import StandardScaler\n",
    "sc=StandardScaler()\n",
    "x_train=sc.fit_transform(x_train)\n",
    "x_test=sc.transform(x_test)"
   ]
  },
  {
   "cell_type": "code",
   "execution_count": 21,
   "metadata": {},
   "outputs": [
    {
     "data": {
      "text/plain": [
       "LogisticRegression(max_iter=5000)"
      ]
     },
     "execution_count": 21,
     "metadata": {},
     "output_type": "execute_result"
    }
   ],
   "source": [
    "from sklearn.linear_model import LogisticRegression\n",
    "classifier=LogisticRegression(solver='lbfgs', max_iter=5000)    \n",
    "classifier.fit(x_train,y_train)"
   ]
  },
  {
   "cell_type": "code",
   "execution_count": 22,
   "metadata": {},
   "outputs": [],
   "source": [
    "y_pred=classifier.predict(x_test)"
   ]
  },
  {
   "cell_type": "code",
   "execution_count": 23,
   "metadata": {},
   "outputs": [],
   "source": [
    "y_pred=pd.DataFrame(y_pred)"
   ]
  },
  {
   "cell_type": "code",
   "execution_count": 24,
   "metadata": {},
   "outputs": [],
   "source": [
    "from sklearn.metrics import confusion_matrix,accuracy_score\n",
    "cm=confusion_matrix(y_test,y_pred)"
   ]
  },
  {
   "cell_type": "code",
   "execution_count": 25,
   "metadata": {},
   "outputs": [],
   "source": [
    "acc=accuracy_score(y_test, y_pred)"
   ]
  },
  {
   "cell_type": "code",
   "execution_count": 26,
   "metadata": {},
   "outputs": [
    {
     "name": "stdout",
     "output_type": "stream",
     "text": [
      "0.914401175606172\n"
     ]
    }
   ],
   "source": [
    "print(acc)"
   ]
  },
  {
   "cell_type": "code",
   "execution_count": 27,
   "metadata": {},
   "outputs": [],
   "source": [
    "test=pd.read_csv('test_dataset.csv')"
   ]
  },
  {
   "cell_type": "code",
   "execution_count": 28,
   "metadata": {},
   "outputs": [
    {
     "data": {
      "text/html": [
       "<div>\n",
       "<style scoped>\n",
       "    .dataframe tbody tr th:only-of-type {\n",
       "        vertical-align: middle;\n",
       "    }\n",
       "\n",
       "    .dataframe tbody tr th {\n",
       "        vertical-align: top;\n",
       "    }\n",
       "\n",
       "    .dataframe thead th {\n",
       "        text-align: right;\n",
       "    }\n",
       "</style>\n",
       "<table border=\"1\" class=\"dataframe\">\n",
       "  <thead>\n",
       "    <tr style=\"text-align: right;\">\n",
       "      <th></th>\n",
       "      <th>Unnamed: 0</th>\n",
       "      <th>Area</th>\n",
       "      <th>Perimeter</th>\n",
       "      <th>MajorAxisLength</th>\n",
       "      <th>MinorAxisLength</th>\n",
       "      <th>AspectRation</th>\n",
       "      <th>Eccentricity</th>\n",
       "      <th>ConvexArea</th>\n",
       "      <th>EquivDiameter</th>\n",
       "      <th>Extent</th>\n",
       "      <th>Solidity</th>\n",
       "      <th>roundness</th>\n",
       "      <th>Compactness</th>\n",
       "      <th>ShapeFactor1</th>\n",
       "      <th>ShapeFactor2</th>\n",
       "      <th>ShapeFactor3</th>\n",
       "      <th>ShapeFactor4</th>\n",
       "    </tr>\n",
       "  </thead>\n",
       "  <tbody>\n",
       "    <tr>\n",
       "      <th>0</th>\n",
       "      <td>1488</td>\n",
       "      <td>42339</td>\n",
       "      <td>741.226</td>\n",
       "      <td>260.199331</td>\n",
       "      <td>207.306394</td>\n",
       "      <td>1.255144</td>\n",
       "      <td>0.604347</td>\n",
       "      <td>42676</td>\n",
       "      <td>232.180294</td>\n",
       "      <td>0.771202</td>\n",
       "      <td>0.992103</td>\n",
       "      <td>0.968387</td>\n",
       "      <td>0.892317</td>\n",
       "      <td>0.006146</td>\n",
       "      <td>0.002403</td>\n",
       "      <td>0.796230</td>\n",
       "      <td>0.999383</td>\n",
       "    </tr>\n",
       "    <tr>\n",
       "      <th>1</th>\n",
       "      <td>2611</td>\n",
       "      <td>68247</td>\n",
       "      <td>1088.754</td>\n",
       "      <td>370.368146</td>\n",
       "      <td>237.863792</td>\n",
       "      <td>1.557060</td>\n",
       "      <td>0.766507</td>\n",
       "      <td>70172</td>\n",
       "      <td>294.779204</td>\n",
       "      <td>0.767683</td>\n",
       "      <td>0.972567</td>\n",
       "      <td>0.723492</td>\n",
       "      <td>0.795909</td>\n",
       "      <td>0.005427</td>\n",
       "      <td>0.001343</td>\n",
       "      <td>0.633471</td>\n",
       "      <td>0.986352</td>\n",
       "    </tr>\n",
       "    <tr>\n",
       "      <th>2</th>\n",
       "      <td>749</td>\n",
       "      <td>37856</td>\n",
       "      <td>708.716</td>\n",
       "      <td>248.430330</td>\n",
       "      <td>194.360324</td>\n",
       "      <td>1.278195</td>\n",
       "      <td>0.622835</td>\n",
       "      <td>38232</td>\n",
       "      <td>219.544429</td>\n",
       "      <td>0.744640</td>\n",
       "      <td>0.990165</td>\n",
       "      <td>0.947109</td>\n",
       "      <td>0.883726</td>\n",
       "      <td>0.006563</td>\n",
       "      <td>0.002469</td>\n",
       "      <td>0.780972</td>\n",
       "      <td>0.998235</td>\n",
       "    </tr>\n",
       "    <tr>\n",
       "      <th>3</th>\n",
       "      <td>99</td>\n",
       "      <td>33143</td>\n",
       "      <td>648.385</td>\n",
       "      <td>222.526310</td>\n",
       "      <td>189.737379</td>\n",
       "      <td>1.172812</td>\n",
       "      <td>0.522480</td>\n",
       "      <td>33377</td>\n",
       "      <td>205.423899</td>\n",
       "      <td>0.769980</td>\n",
       "      <td>0.992989</td>\n",
       "      <td>0.990685</td>\n",
       "      <td>0.923144</td>\n",
       "      <td>0.006714</td>\n",
       "      <td>0.003008</td>\n",
       "      <td>0.852195</td>\n",
       "      <td>0.999465</td>\n",
       "    </tr>\n",
       "    <tr>\n",
       "      <th>4</th>\n",
       "      <td>11298</td>\n",
       "      <td>29925</td>\n",
       "      <td>647.570</td>\n",
       "      <td>237.714031</td>\n",
       "      <td>161.004848</td>\n",
       "      <td>1.476440</td>\n",
       "      <td>0.735703</td>\n",
       "      <td>30321</td>\n",
       "      <td>195.196551</td>\n",
       "      <td>0.785309</td>\n",
       "      <td>0.986940</td>\n",
       "      <td>0.896748</td>\n",
       "      <td>0.821140</td>\n",
       "      <td>0.007944</td>\n",
       "      <td>0.002228</td>\n",
       "      <td>0.674271</td>\n",
       "      <td>0.995521</td>\n",
       "    </tr>\n",
       "  </tbody>\n",
       "</table>\n",
       "</div>"
      ],
      "text/plain": [
       "   Unnamed: 0   Area  Perimeter  MajorAxisLength  MinorAxisLength  \\\n",
       "0        1488  42339    741.226       260.199331       207.306394   \n",
       "1        2611  68247   1088.754       370.368146       237.863792   \n",
       "2         749  37856    708.716       248.430330       194.360324   \n",
       "3          99  33143    648.385       222.526310       189.737379   \n",
       "4       11298  29925    647.570       237.714031       161.004848   \n",
       "\n",
       "   AspectRation  Eccentricity  ConvexArea  EquivDiameter    Extent  Solidity  \\\n",
       "0      1.255144      0.604347       42676     232.180294  0.771202  0.992103   \n",
       "1      1.557060      0.766507       70172     294.779204  0.767683  0.972567   \n",
       "2      1.278195      0.622835       38232     219.544429  0.744640  0.990165   \n",
       "3      1.172812      0.522480       33377     205.423899  0.769980  0.992989   \n",
       "4      1.476440      0.735703       30321     195.196551  0.785309  0.986940   \n",
       "\n",
       "   roundness  Compactness  ShapeFactor1  ShapeFactor2  ShapeFactor3  \\\n",
       "0   0.968387     0.892317      0.006146      0.002403      0.796230   \n",
       "1   0.723492     0.795909      0.005427      0.001343      0.633471   \n",
       "2   0.947109     0.883726      0.006563      0.002469      0.780972   \n",
       "3   0.990685     0.923144      0.006714      0.003008      0.852195   \n",
       "4   0.896748     0.821140      0.007944      0.002228      0.674271   \n",
       "\n",
       "   ShapeFactor4  \n",
       "0      0.999383  \n",
       "1      0.986352  \n",
       "2      0.998235  \n",
       "3      0.999465  \n",
       "4      0.995521  "
      ]
     },
     "execution_count": 28,
     "metadata": {},
     "output_type": "execute_result"
    }
   ],
   "source": [
    "test.head()"
   ]
  },
  {
   "cell_type": "code",
   "execution_count": 29,
   "metadata": {},
   "outputs": [
    {
     "data": {
      "text/plain": [
       "(2723, 17)"
      ]
     },
     "execution_count": 29,
     "metadata": {},
     "output_type": "execute_result"
    }
   ],
   "source": [
    "test.shape"
   ]
  },
  {
   "cell_type": "code",
   "execution_count": 30,
   "metadata": {},
   "outputs": [],
   "source": [
    "test.drop('Unnamed: 0',axis='columns',inplace=True)\n",
    "test.drop('ShapeFactor1',axis='columns',inplace=True)\n",
    "test.drop('ShapeFactor2',axis='columns',inplace=True)\n",
    "test.drop('ShapeFactor3',axis='columns',inplace=True)\n",
    "test.drop('ShapeFactor4',axis='columns',inplace=True)"
   ]
  },
  {
   "cell_type": "code",
   "execution_count": 31,
   "metadata": {},
   "outputs": [],
   "source": [
    "test=sc.transform(test)"
   ]
  },
  {
   "cell_type": "code",
   "execution_count": 32,
   "metadata": {},
   "outputs": [],
   "source": [
    "filename = 'compitition_model.sav'\n",
    "pickle.dump(classifier, open(filename, 'wb'))"
   ]
  },
  {
   "cell_type": "code",
   "execution_count": 33,
   "metadata": {},
   "outputs": [],
   "source": [
    "loaded_model = pickle.load(open(filename, 'rb'))"
   ]
  },
  {
   "cell_type": "code",
   "execution_count": 34,
   "metadata": {},
   "outputs": [],
   "source": [
    "result=loaded_model.predict(test)"
   ]
  },
  {
   "cell_type": "code",
   "execution_count": 35,
   "metadata": {},
   "outputs": [],
   "source": [
    "result= pd.DataFrame(result)"
   ]
  },
  {
   "cell_type": "code",
   "execution_count": 36,
   "metadata": {},
   "outputs": [
    {
     "data": {
      "text/plain": [
       "3    657\n",
       "6    563\n",
       "5    410\n",
       "4    403\n",
       "2    324\n",
       "0    249\n",
       "1    117\n",
       "Name: 0, dtype: int64"
      ]
     },
     "execution_count": 36,
     "metadata": {},
     "output_type": "execute_result"
    }
   ],
   "source": [
    "result[0].value_counts()"
   ]
  },
  {
   "cell_type": "code",
   "execution_count": 37,
   "metadata": {},
   "outputs": [
    {
     "name": "stderr",
     "output_type": "stream",
     "text": [
      "C:\\Users\\Fady\\anaconda3\\lib\\site-packages\\sklearn\\utils\\validation.py:73: DataConversionWarning: A column-vector y was passed when a 1d array was expected. Please change the shape of y to (n_samples, ), for example using ravel().\n",
      "  return f(**kwargs)\n"
     ]
    }
   ],
   "source": [
    "result = label_encoder.inverse_transform(result)"
   ]
  },
  {
   "cell_type": "code",
   "execution_count": 38,
   "metadata": {},
   "outputs": [],
   "source": [
    "result= pd.DataFrame(result)"
   ]
  },
  {
   "cell_type": "code",
   "execution_count": 39,
   "metadata": {},
   "outputs": [
    {
     "data": {
      "text/plain": [
       "DERMASON    657\n",
       "SIRA        563\n",
       "SEKER       410\n",
       "HOROZ       403\n",
       "CALI        324\n",
       "BARBUNYA    249\n",
       "BOMBAY      117\n",
       "Name: 0, dtype: int64"
      ]
     },
     "execution_count": 39,
     "metadata": {},
     "output_type": "execute_result"
    }
   ],
   "source": [
    "result[0].value_counts()"
   ]
  },
  {
   "cell_type": "code",
   "execution_count": 40,
   "metadata": {},
   "outputs": [],
   "source": [
    "result.to_csv('Compitition_fra4at.csv', index=True)"
   ]
  },
  {
   "cell_type": "code",
   "execution_count": 41,
   "metadata": {},
   "outputs": [
    {
     "name": "stdout",
     "output_type": "stream",
     "text": [
      "0.9184722732280572\n"
     ]
    }
   ],
   "source": [
    "print(accuracy_score(answ,result))"
   ]
  },
  {
   "cell_type": "markdown",
   "metadata": {},
   "source": [
    "## Kernel-SVM"
   ]
  },
  {
   "cell_type": "code",
   "execution_count": 42,
   "metadata": {},
   "outputs": [],
   "source": [
    "from sklearn.svm import SVC\n",
    "from sklearn.model_selection import cross_val_score\n",
    "clf = SVC(kernel='poly', C=1)\n",
    "scores = cross_val_score(clf, x_train, y_train, cv=5)"
   ]
  },
  {
   "cell_type": "code",
   "execution_count": 43,
   "metadata": {},
   "outputs": [],
   "source": [
    "y_pred=classifier.predict(x_test) "
   ]
  },
  {
   "cell_type": "code",
   "execution_count": 44,
   "metadata": {},
   "outputs": [],
   "source": [
    "#y_pred=pd.DataFrame(y_pred)"
   ]
  },
  {
   "cell_type": "code",
   "execution_count": 45,
   "metadata": {},
   "outputs": [],
   "source": [
    "acc=accuracy_score(y_test, y_pred)"
   ]
  },
  {
   "cell_type": "code",
   "execution_count": 46,
   "metadata": {},
   "outputs": [
    {
     "data": {
      "text/plain": [
       "0.914401175606172"
      ]
     },
     "execution_count": 46,
     "metadata": {},
     "output_type": "execute_result"
    }
   ],
   "source": [
    "acc"
   ]
  },
  {
   "cell_type": "code",
   "execution_count": 47,
   "metadata": {},
   "outputs": [],
   "source": [
    "y_pred=pd.DataFrame(y_pred)"
   ]
  },
  {
   "cell_type": "code",
   "execution_count": 48,
   "metadata": {},
   "outputs": [],
   "source": [
    "filename2 = 'compitition_model2.sav'\n",
    "pickle.dump(classifier, open(filename2, 'wb'))"
   ]
  },
  {
   "cell_type": "code",
   "execution_count": 49,
   "metadata": {},
   "outputs": [],
   "source": [
    "loaded_model2 = pickle.load(open(filename2, 'rb'))"
   ]
  },
  {
   "cell_type": "code",
   "execution_count": 50,
   "metadata": {},
   "outputs": [],
   "source": [
    "result=loaded_model2.predict(test)"
   ]
  },
  {
   "cell_type": "code",
   "execution_count": 51,
   "metadata": {},
   "outputs": [],
   "source": [
    "result= pd.DataFrame(result)"
   ]
  },
  {
   "cell_type": "code",
   "execution_count": 52,
   "metadata": {},
   "outputs": [
    {
     "data": {
      "text/plain": [
       "3    657\n",
       "6    563\n",
       "5    410\n",
       "4    403\n",
       "2    324\n",
       "0    249\n",
       "1    117\n",
       "Name: 0, dtype: int64"
      ]
     },
     "execution_count": 52,
     "metadata": {},
     "output_type": "execute_result"
    }
   ],
   "source": [
    "result[0].value_counts()"
   ]
  },
  {
   "cell_type": "markdown",
   "metadata": {},
   "source": [
    "## KNN"
   ]
  },
  {
   "cell_type": "code",
   "execution_count": 53,
   "metadata": {},
   "outputs": [
    {
     "data": {
      "text/plain": [
       "KNeighborsClassifier()"
      ]
     },
     "execution_count": 53,
     "metadata": {},
     "output_type": "execute_result"
    }
   ],
   "source": [
    "from sklearn.neighbors import KNeighborsClassifier  \n",
    "classifier= KNeighborsClassifier(n_neighbors=5, metric='minkowski', p=2 )  \n",
    "classifier.fit(x_train, y_train)"
   ]
  },
  {
   "cell_type": "code",
   "execution_count": 54,
   "metadata": {},
   "outputs": [],
   "source": [
    "y_pred=classifier.predict(x_test)"
   ]
  },
  {
   "cell_type": "code",
   "execution_count": 55,
   "metadata": {},
   "outputs": [
    {
     "name": "stdout",
     "output_type": "stream",
     "text": [
      "              precision    recall  f1-score   support\n",
      "\n",
      "           0       0.91      0.89      0.90       259\n",
      "           1       1.00      1.00      1.00        99\n",
      "           2       0.90      0.90      0.90       311\n",
      "           3       0.92      0.92      0.92       738\n",
      "           4       0.94      0.92      0.93       384\n",
      "           5       0.93      0.96      0.94       423\n",
      "           6       0.86      0.86      0.86       508\n",
      "\n",
      "    accuracy                           0.91      2722\n",
      "   macro avg       0.92      0.92      0.92      2722\n",
      "weighted avg       0.91      0.91      0.91      2722\n",
      "\n"
     ]
    }
   ],
   "source": [
    "from sklearn.metrics import classification_report\n",
    "report=classification_report(y_test,y_pred)\n",
    "print(report)"
   ]
  },
  {
   "cell_type": "code",
   "execution_count": 56,
   "metadata": {},
   "outputs": [],
   "source": [
    "y_pred=pd.DataFrame(y_pred)"
   ]
  },
  {
   "cell_type": "code",
   "execution_count": 57,
   "metadata": {},
   "outputs": [],
   "source": [
    "filename2 = 'compitition_model2.sav'\n",
    "pickle.dump(classifier, open(filename2, 'wb'))"
   ]
  },
  {
   "cell_type": "code",
   "execution_count": 58,
   "metadata": {},
   "outputs": [],
   "source": [
    "loaded_model2 = pickle.load(open(filename2, 'rb'))"
   ]
  },
  {
   "cell_type": "code",
   "execution_count": 59,
   "metadata": {},
   "outputs": [],
   "source": [
    "result=loaded_model2.predict(test)"
   ]
  },
  {
   "cell_type": "code",
   "execution_count": 60,
   "metadata": {},
   "outputs": [],
   "source": [
    "result= pd.DataFrame(result)"
   ]
  },
  {
   "cell_type": "code",
   "execution_count": 61,
   "metadata": {},
   "outputs": [
    {
     "data": {
      "text/plain": [
       "3    677\n",
       "6    542\n",
       "5    410\n",
       "4    399\n",
       "2    332\n",
       "0    246\n",
       "1    117\n",
       "Name: 0, dtype: int64"
      ]
     },
     "execution_count": 61,
     "metadata": {},
     "output_type": "execute_result"
    }
   ],
   "source": [
    "result[0].value_counts()"
   ]
  },
  {
   "cell_type": "code",
   "execution_count": 62,
   "metadata": {},
   "outputs": [
    {
     "name": "stdout",
     "output_type": "stream",
     "text": [
      "              precision    recall  f1-score   support\n",
      "\n",
      "           0       0.91      0.89      0.90       259\n",
      "           1       1.00      1.00      1.00        99\n",
      "           2       0.90      0.90      0.90       311\n",
      "           3       0.92      0.92      0.92       738\n",
      "           4       0.94      0.92      0.93       384\n",
      "           5       0.93      0.96      0.94       423\n",
      "           6       0.86      0.86      0.86       508\n",
      "\n",
      "    accuracy                           0.91      2722\n",
      "   macro avg       0.92      0.92      0.92      2722\n",
      "weighted avg       0.91      0.91      0.91      2722\n",
      "\n"
     ]
    }
   ],
   "source": [
    "from sklearn.metrics import classification_report\n",
    "report=classification_report(y_test,y_pred)\n",
    "print(report)"
   ]
  },
  {
   "cell_type": "markdown",
   "metadata": {},
   "source": [
    "## Naeive Base"
   ]
  },
  {
   "cell_type": "code",
   "execution_count": 63,
   "metadata": {},
   "outputs": [
    {
     "data": {
      "text/plain": [
       "GaussianNB()"
      ]
     },
     "execution_count": 63,
     "metadata": {},
     "output_type": "execute_result"
    }
   ],
   "source": [
    "from sklearn.naive_bayes import GaussianNB\n",
    "classifier=GaussianNB()   \n",
    "classifier.fit(x_train,y_train)"
   ]
  },
  {
   "cell_type": "code",
   "execution_count": 64,
   "metadata": {},
   "outputs": [],
   "source": [
    "y_pred=classifier.predict(x_test) "
   ]
  },
  {
   "cell_type": "code",
   "execution_count": 65,
   "metadata": {},
   "outputs": [],
   "source": [
    "from sklearn.metrics import confusion_matrix\n",
    "cm=confusion_matrix(y_test , y_pred)"
   ]
  },
  {
   "cell_type": "code",
   "execution_count": 66,
   "metadata": {},
   "outputs": [
    {
     "name": "stdout",
     "output_type": "stream",
     "text": [
      "              precision    recall  f1-score   support\n",
      "\n",
      "           0       0.83      0.82      0.83       259\n",
      "           1       0.99      1.00      0.99        99\n",
      "           2       0.88      0.86      0.87       311\n",
      "           3       0.94      0.87      0.90       738\n",
      "           4       0.93      0.94      0.94       384\n",
      "           5       0.92      0.95      0.94       423\n",
      "           6       0.81      0.90      0.85       508\n",
      "\n",
      "    accuracy                           0.89      2722\n",
      "   macro avg       0.90      0.90      0.90      2722\n",
      "weighted avg       0.90      0.89      0.90      2722\n",
      "\n"
     ]
    }
   ],
   "source": [
    "from sklearn.metrics import classification_report\n",
    "report=classification_report(y_test,y_pred)\n",
    "print(report)"
   ]
  },
  {
   "cell_type": "code",
   "execution_count": 67,
   "metadata": {},
   "outputs": [],
   "source": [
    "filename2 = 'compitition_model2.sav'\n",
    "pickle.dump(classifier, open(filename2, 'wb'))"
   ]
  },
  {
   "cell_type": "code",
   "execution_count": 68,
   "metadata": {},
   "outputs": [],
   "source": [
    "loaded_model2 = pickle.load(open(filename2, 'rb'))"
   ]
  },
  {
   "cell_type": "code",
   "execution_count": 69,
   "metadata": {},
   "outputs": [],
   "source": [
    "result=loaded_model2.predict(test)"
   ]
  },
  {
   "cell_type": "code",
   "execution_count": 70,
   "metadata": {},
   "outputs": [],
   "source": [
    "result= pd.DataFrame(result)"
   ]
  },
  {
   "cell_type": "code",
   "execution_count": 71,
   "metadata": {},
   "outputs": [
    {
     "data": {
      "text/plain": [
       "3    630\n",
       "6    574\n",
       "5    417\n",
       "4    411\n",
       "2    319\n",
       "0    255\n",
       "1    117\n",
       "Name: 0, dtype: int64"
      ]
     },
     "execution_count": 71,
     "metadata": {},
     "output_type": "execute_result"
    }
   ],
   "source": [
    "result[0].value_counts()"
   ]
  },
  {
   "cell_type": "code",
   "execution_count": 72,
   "metadata": {},
   "outputs": [
    {
     "name": "stderr",
     "output_type": "stream",
     "text": [
      "C:\\Users\\Fady\\anaconda3\\lib\\site-packages\\sklearn\\utils\\validation.py:73: DataConversionWarning: A column-vector y was passed when a 1d array was expected. Please change the shape of y to (n_samples, ), for example using ravel().\n",
      "  return f(**kwargs)\n"
     ]
    }
   ],
   "source": [
    "result = label_encoder.inverse_transform(result)"
   ]
  },
  {
   "cell_type": "code",
   "execution_count": 73,
   "metadata": {},
   "outputs": [],
   "source": [
    "result= pd.DataFrame(result)"
   ]
  },
  {
   "cell_type": "code",
   "execution_count": 74,
   "metadata": {},
   "outputs": [
    {
     "name": "stdout",
     "output_type": "stream",
     "text": [
      "0.9008446566287184\n"
     ]
    }
   ],
   "source": [
    "print(accuracy_score(answ,result))"
   ]
  },
  {
   "cell_type": "code",
   "execution_count": null,
   "metadata": {},
   "outputs": [],
   "source": []
  }
 ],
 "metadata": {
  "kernelspec": {
   "display_name": "Python 3",
   "language": "python",
   "name": "python3"
  },
  "language_info": {
   "codemirror_mode": {
    "name": "ipython",
    "version": 3
   },
   "file_extension": ".py",
   "mimetype": "text/x-python",
   "name": "python",
   "nbconvert_exporter": "python",
   "pygments_lexer": "ipython3",
   "version": "3.8.3"
  }
 },
 "nbformat": 4,
 "nbformat_minor": 5
}
